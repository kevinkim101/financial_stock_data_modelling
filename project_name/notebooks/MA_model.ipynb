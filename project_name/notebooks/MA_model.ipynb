{
 "cells": [
  {
   "cell_type": "markdown",
   "metadata": {},
   "source": [
    "**Simple Moving Average Model**"
   ]
  },
  {
   "cell_type": "code",
   "execution_count": 91,
   "metadata": {},
   "outputs": [
    {
     "data": {
      "text/html": [
       "<div>\n",
       "<style scoped>\n",
       "    .dataframe tbody tr th:only-of-type {\n",
       "        vertical-align: middle;\n",
       "    }\n",
       "\n",
       "    .dataframe tbody tr th {\n",
       "        vertical-align: top;\n",
       "    }\n",
       "\n",
       "    .dataframe thead th {\n",
       "        text-align: right;\n",
       "    }\n",
       "</style>\n",
       "<table border=\"1\" class=\"dataframe\">\n",
       "  <thead>\n",
       "    <tr style=\"text-align: right;\">\n",
       "      <th></th>\n",
       "      <th>Close</th>\n",
       "    </tr>\n",
       "    <tr>\n",
       "      <th>Date</th>\n",
       "      <th></th>\n",
       "    </tr>\n",
       "  </thead>\n",
       "  <tbody>\n",
       "    <tr>\n",
       "      <th>1984-09-07</th>\n",
       "      <td>0.423880</td>\n",
       "    </tr>\n",
       "    <tr>\n",
       "      <th>1984-09-10</th>\n",
       "      <td>0.421340</td>\n",
       "    </tr>\n",
       "    <tr>\n",
       "      <th>1984-09-11</th>\n",
       "      <td>0.429020</td>\n",
       "    </tr>\n",
       "    <tr>\n",
       "      <th>1984-09-12</th>\n",
       "      <td>0.416180</td>\n",
       "    </tr>\n",
       "    <tr>\n",
       "      <th>1984-09-13</th>\n",
       "      <td>0.439270</td>\n",
       "    </tr>\n",
       "    <tr>\n",
       "      <th>...</th>\n",
       "      <td>...</td>\n",
       "    </tr>\n",
       "    <tr>\n",
       "      <th>2021-12-16</th>\n",
       "      <td>172.259995</td>\n",
       "    </tr>\n",
       "    <tr>\n",
       "      <th>2021-12-17</th>\n",
       "      <td>171.139999</td>\n",
       "    </tr>\n",
       "    <tr>\n",
       "      <th>2021-12-20</th>\n",
       "      <td>169.750000</td>\n",
       "    </tr>\n",
       "    <tr>\n",
       "      <th>2021-12-21</th>\n",
       "      <td>172.990005</td>\n",
       "    </tr>\n",
       "    <tr>\n",
       "      <th>2021-12-22</th>\n",
       "      <td>175.639999</td>\n",
       "    </tr>\n",
       "  </tbody>\n",
       "</table>\n",
       "<p>9397 rows × 1 columns</p>\n",
       "</div>"
      ],
      "text/plain": [
       "                 Close\n",
       "Date                  \n",
       "1984-09-07    0.423880\n",
       "1984-09-10    0.421340\n",
       "1984-09-11    0.429020\n",
       "1984-09-12    0.416180\n",
       "1984-09-13    0.439270\n",
       "...                ...\n",
       "2021-12-16  172.259995\n",
       "2021-12-17  171.139999\n",
       "2021-12-20  169.750000\n",
       "2021-12-21  172.990005\n",
       "2021-12-22  175.639999\n",
       "\n",
       "[9397 rows x 1 columns]"
      ]
     },
     "execution_count": 91,
     "metadata": {},
     "output_type": "execute_result"
    }
   ],
   "source": [
    "# Import packages and clean up data\n",
    "\n",
    "import pandas as pd\n",
    "import matplotlib.pyplot as plt\n",
    "\n",
    "df = pd.read_csv(\"../data/raw/Stock_data/Stocks/appl_stock_values.csv\", index_col = 0, header=0)\n",
    "df[\"Date\"] = pd.to_datetime(df[\"Date\"])\n",
    "del df[\"Open\"]\n",
    "del df[\"High\"]\n",
    "del df[\"Low\"]\n",
    "del df[\"Volume\"]\n",
    "df = df.set_index(\"Date\")\n",
    "df\n"
   ]
  },
  {
   "cell_type": "code",
   "execution_count": 92,
   "metadata": {},
   "outputs": [
    {
     "name": "stdout",
     "output_type": "stream",
     "text": [
      "ADF Stat: -0.086841374934165\n",
      "p-value: 0.9507335132146989\n"
     ]
    }
   ],
   "source": [
    "# Assess whether the data is stationary\n",
    "from statsmodels.tsa.stattools import adfuller\n",
    "ADF_result = adfuller(df[\"Close\"])\n",
    "print(f'ADF Stat: {ADF_result[0]}')\n",
    "print(f'p-value: {ADF_result[1]}')"
   ]
  },
  {
   "cell_type": "markdown",
   "metadata": {},
   "source": [
    "Thus, this data set is not stationary, so we need to transform it into a stationary data set"
   ]
  },
  {
   "cell_type": "code",
   "execution_count": 93,
   "metadata": {},
   "outputs": [
    {
     "name": "stdout",
     "output_type": "stream",
     "text": [
      "ADF Statistic: -41.23692623760103\n",
      "p-value: 0.0\n"
     ]
    }
   ],
   "source": [
    "# Apply first order differencing to make it stationary\n",
    "\n",
    "import numpy as np\n",
    "\n",
    "stock_close_diff = np.diff(df[\"Close\"], n = 1)\n",
    "\n",
    "ADF_result = adfuller(stock_close_diff)\n",
    "print(f'ADF Statistic: {ADF_result[0]}')\n",
    "print(f'p-value: {ADF_result[1]}')"
   ]
  },
  {
   "cell_type": "markdown",
   "metadata": {},
   "source": [
    "Now we have made the data stationary. Now we can apply the ACF Function to find the parameters for the MA model"
   ]
  },
  {
   "cell_type": "code",
   "execution_count": 94,
   "metadata": {},
   "outputs": [
    {
     "data": {
      "image/png": "[encoded data removed]",
      "text/plain": [
       "<Figure size 432x288 with 1 Axes>"
      ]
     },
     "metadata": {
      "needs_background": "light"
     },
     "output_type": "display_data"
    }
   ],
   "source": [
    "# Plot the ACF graph\n",
    "\n",
    "from statsmodels.graphics.tsaplots import plot_acf\n",
    "plot_acf(df[\"Close\"], lags= 10)\n",
    "plt.show()"
   ]
  },
  {
   "cell_type": "markdown",
   "metadata": {},
   "source": [
    "Lags 0 - 10 are all outside of the shaded region and positive correlation, thus lags 0 - 10 are all considered as significant coefficients. So, we have significant coefficients for all lags 0 - 10; so we create a moving average model with order 10. "
   ]
  },
  {
   "cell_type": "code",
   "execution_count": 95,
   "metadata": {},
   "outputs": [
    {
     "name": "stderr",
     "output_type": "stream",
     "text": [
      "/Users/kevinkim/Projects/venv_kevin/lib/python3.6/site-packages/statsmodels/tsa/base/tsa_model.py:583: ValueWarning: A date index has been provided, but it has no associated frequency information and so will be ignored when e.g. forecasting.\n",
      "  ' ignored when e.g. forecasting.', ValueWarning)\n",
      "/Users/kevinkim/Projects/venv_kevin/lib/python3.6/site-packages/statsmodels/base/model.py:568: ConvergenceWarning: Maximum Likelihood optimization failed to converge. Check mle_retvals\n",
      "  ConvergenceWarning)\n"
     ]
    },
    {
     "name": "stdout",
     "output_type": "stream",
     "text": [
      "                               SARIMAX Results                                \n",
      "==============================================================================\n",
      "Dep. Variable:                  Close   No. Observations:                 9397\n",
      "Model:                ARIMA(0, 0, 10)   Log Likelihood              -27999.910\n",
      "Date:                Fri, 24 Dec 2021   AIC                          56023.820\n",
      "Time:                        22:09:52   BIC                          56109.597\n",
      "Sample:                             0   HQIC                         56052.945\n",
      "                               - 9397                                         \n",
      "Covariance Type:                  opg                                         \n",
      "==============================================================================\n",
      "                 coef    std err          z      P>|z|      [0.025      0.975]\n",
      "------------------------------------------------------------------------------\n",
      "const         28.8668      0.928     31.113      0.000      27.048      30.685\n",
      "ma.L1          1.1835      0.003    449.770      0.000       1.178       1.189\n",
      "ma.L2          1.6413      0.004    412.927      0.000       1.634       1.649\n",
      "ma.L3          1.8510      0.004    439.083      0.000       1.843       1.859\n",
      "ma.L4          1.7027      0.005    352.909      0.000       1.693       1.712\n",
      "ma.L5          2.0758      0.004    463.655      0.000       2.067       2.085\n",
      "ma.L6          1.7170      0.005    373.685      0.000       1.708       1.726\n",
      "ma.L7          1.7126      0.005    367.003      0.000       1.704       1.722\n",
      "ma.L8          1.5617      0.004    370.128      0.000       1.553       1.570\n",
      "ma.L9          0.8779      0.004    216.777      0.000       0.870       0.886\n",
      "ma.L10         0.7140      0.002    300.223      0.000       0.709       0.719\n",
      "sigma2        22.6752      0.079    288.564      0.000      22.521      22.829\n",
      "===================================================================================\n",
      "Ljung-Box (L1) (Q):                  69.10   Jarque-Bera (JB):            754164.39\n",
      "Prob(Q):                              0.00   Prob(JB):                         0.00\n",
      "Heteroskedasticity (H):              20.74   Skew:                             0.67\n",
      "Prob(H) (two-sided):                  0.00   Kurtosis:                        46.87\n",
      "===================================================================================\n",
      "\n",
      "Warnings:\n",
      "[1] Covariance matrix calculated using the outer product of gradients (complex-step).\n"
     ]
    }
   ],
   "source": [
    "# Implement the moving average model\n",
    "\n",
    "from statsmodels.tsa.arima.model import ARIMA\n",
    "\n",
    "# MA_model uses the ARIMA function but set the parameters p and d to 0. Set the q (lag) value to 10 as identified in ACF plot.\n",
    "MA_model = ARIMA(endog = df[\"Close\"], order = (0,0,10)) \n",
    "results = MA_model.fit()\n",
    "print(results.summary())"
   ]
  },
  {
   "cell_type": "code",
   "execution_count": 96,
   "metadata": {},
   "outputs": [
    {
     "data": {
      "text/html": [
       "<div>\n",
       "<style scoped>\n",
       "    .dataframe tbody tr th:only-of-type {\n",
       "        vertical-align: middle;\n",
       "    }\n",
       "\n",
       "    .dataframe tbody tr th {\n",
       "        vertical-align: top;\n",
       "    }\n",
       "\n",
       "    .dataframe thead th {\n",
       "        text-align: right;\n",
       "    }\n",
       "</style>\n",
       "<table border=\"1\" class=\"dataframe\">\n",
       "  <thead>\n",
       "    <tr style=\"text-align: right;\">\n",
       "      <th></th>\n",
       "      <th>Close</th>\n",
       "      <th>Forecast</th>\n",
       "    </tr>\n",
       "    <tr>\n",
       "      <th>Date</th>\n",
       "      <th></th>\n",
       "      <th></th>\n",
       "    </tr>\n",
       "  </thead>\n",
       "  <tbody>\n",
       "    <tr>\n",
       "      <th>2021-08-03</th>\n",
       "      <td>147.360001</td>\n",
       "      <td>142.042505</td>\n",
       "    </tr>\n",
       "    <tr>\n",
       "      <th>2021-08-04</th>\n",
       "      <td>146.949997</td>\n",
       "      <td>133.271106</td>\n",
       "    </tr>\n",
       "    <tr>\n",
       "      <th>2021-08-05</th>\n",
       "      <td>147.059998</td>\n",
       "      <td>146.903787</td>\n",
       "    </tr>\n",
       "    <tr>\n",
       "      <th>2021-08-06</th>\n",
       "      <td>146.139999</td>\n",
       "      <td>141.599554</td>\n",
       "    </tr>\n",
       "    <tr>\n",
       "      <th>2021-08-09</th>\n",
       "      <td>146.089996</td>\n",
       "      <td>138.437595</td>\n",
       "    </tr>\n",
       "    <tr>\n",
       "      <th>...</th>\n",
       "      <td>...</td>\n",
       "      <td>...</td>\n",
       "    </tr>\n",
       "    <tr>\n",
       "      <th>2021-12-16</th>\n",
       "      <td>172.259995</td>\n",
       "      <td>174.247064</td>\n",
       "    </tr>\n",
       "    <tr>\n",
       "      <th>2021-12-17</th>\n",
       "      <td>171.139999</td>\n",
       "      <td>162.681362</td>\n",
       "    </tr>\n",
       "    <tr>\n",
       "      <th>2021-12-20</th>\n",
       "      <td>169.750000</td>\n",
       "      <td>157.401003</td>\n",
       "    </tr>\n",
       "    <tr>\n",
       "      <th>2021-12-21</th>\n",
       "      <td>172.990005</td>\n",
       "      <td>150.408372</td>\n",
       "    </tr>\n",
       "    <tr>\n",
       "      <th>2021-12-22</th>\n",
       "      <td>175.639999</td>\n",
       "      <td>175.114294</td>\n",
       "    </tr>\n",
       "  </tbody>\n",
       "</table>\n",
       "<p>100 rows × 2 columns</p>\n",
       "</div>"
      ],
      "text/plain": [
       "                 Close    Forecast\n",
       "Date                              \n",
       "2021-08-03  147.360001  142.042505\n",
       "2021-08-04  146.949997  133.271106\n",
       "2021-08-05  147.059998  146.903787\n",
       "2021-08-06  146.139999  141.599554\n",
       "2021-08-09  146.089996  138.437595\n",
       "...                ...         ...\n",
       "2021-12-16  172.259995  174.247064\n",
       "2021-12-17  171.139999  162.681362\n",
       "2021-12-20  169.750000  157.401003\n",
       "2021-12-21  172.990005  150.408372\n",
       "2021-12-22  175.639999  175.114294\n",
       "\n",
       "[100 rows x 2 columns]"
      ]
     },
     "execution_count": 96,
     "metadata": {},
     "output_type": "execute_result"
    }
   ],
   "source": [
    "import datetime\n",
    "\n",
    "df[\"Forecast\"] = results.predict(start = \"2021-01-04\", end = \"2021-12-22\")\n",
    "df.tail(100)"
   ]
  },
  {
   "cell_type": "code",
   "execution_count": 97,
   "metadata": {},
   "outputs": [
    {
     "data": {
      "text/plain": [
       "<AxesSubplot:xlabel='Date'>"
      ]
     },
     "execution_count": 97,
     "metadata": {},
     "output_type": "execute_result"
    },
    {
     "data": {
      "image/png": "[encoded data removed]",
      "text/plain": [
       "<Figure size 432x288 with 1 Axes>"
      ]
     },
     "metadata": {
      "needs_background": "light"
     },
     "output_type": "display_data"
    }
   ],
   "source": [
    "df[[\"Close\", \"Forecast\"]].plot(lw = 1)"
   ]
  }
 ],
 "metadata": {
  "interpreter": {
   "hash": "873097d835348da2ef85fd5f3d97f63640800a1da400f26a2636fbd15d7d426b"
  },
  "kernelspec": {
   "display_name": "Python 3.6.10 64-bit ('venv_kevin': venv)",
   "language": "python",
   "name": "python3"
  },
  "language_info": {
   "codemirror_mode": {
    "name": "ipython",
    "version": 3
   },
   "file_extension": ".py",
   "mimetype": "text/x-python",
   "name": "python",
   "nbconvert_exporter": "python",
   "pygments_lexer": "ipython3",
   "version": "3.6.10"
  },
  "orig_nbformat": 4
 },
 "nbformat": 4,
 "nbformat_minor": 2
}
