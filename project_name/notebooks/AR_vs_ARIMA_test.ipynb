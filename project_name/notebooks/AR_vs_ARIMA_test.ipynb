{
 "cells": [
  {
   "cell_type": "code",
   "execution_count": 1,
   "metadata": {},
   "outputs": [],
   "source": [
    "import pandas as pd\n",
    "import numpy as np\n",
    "import matplotlib.pyplot as plt\n",
    "from sklearn.metrics import mean_squared_error, mean_absolute_percentage_error\n",
    "import random\n",
    "import os"
   ]
  },
  {
   "cell_type": "code",
   "execution_count": 5,
   "metadata": {},
   "outputs": [
    {
     "name": "stdout",
     "output_type": "stream",
     "text": [
      "alo.us.txt\n",
      "cib.us.txt\n",
      "pacb.us.txt\n",
      "petz.us.txt\n",
      "refr.us.txt\n"
     ]
    }
   ],
   "source": [
    "#we want to select some batch data from our stocks folder\n",
    "vals = []\n",
    "for i in range(5):\n",
    "    number = random.randint(0,len(os.listdir(\"../data/raw/Stock_data/Stocks\")))\n",
    "    vals.append(number)\n",
    "\n",
    "counter = 0\n",
    "test_stocks = []\n",
    "for file in os.listdir(\"../data/raw/Stock_data/Stocks\"):\n",
    "    if counter in vals:\n",
    "        df = pd.read_csv(\"../data/raw/Stock_data/Stocks/\" + file)\n",
    "        test_stocks.append(df)\n",
    "        print(file)\n",
    "    counter += 1\n",
    "    \n",
    "\n"
   ]
  }
 ],
 "metadata": {
  "interpreter": {
   "hash": "621600ee454541bfedd91a3c7968a75858c2d00cf0c09c89eefe5e195084ce34"
  },
  "kernelspec": {
   "display_name": "Python 3.9.4 64-bit ('flask_env': venv)",
   "language": "python",
   "name": "python3"
  },
  "language_info": {
   "codemirror_mode": {
    "name": "ipython",
    "version": 3
   },
   "file_extension": ".py",
   "mimetype": "text/x-python",
   "name": "python",
   "nbconvert_exporter": "python",
   "pygments_lexer": "ipython3",
   "version": "3.9.9"
  },
  "orig_nbformat": 4
 },
 "nbformat": 4,
 "nbformat_minor": 2
}
